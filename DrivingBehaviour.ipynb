{
 "cells": [
  {
   "cell_type": "markdown",
   "source": [
    "1. Colab Settings - comment | do not run | configure with your settings if GOOGLE COLAB is used"
   ],
   "metadata": {
    "collapsed": false
   }
  },
  {
   "cell_type": "code",
   "execution_count": 62,
   "outputs": [
    {
     "output_type": "stream",
     "name": "stdout",
     "text": [
      "Drive already mounted at /content/drive; to attempt to forcibly remount, call drive.mount(\"/content/drive\", force_remount=True).\n"
     ]
    }
   ],
   "source": [
    "from google.colab import drive\n",
    "drive.mount('/content/drive')"
   ],
   "metadata": {
    "collapsed": false
   }
  },
  {
   "cell_type": "code",
   "execution_count": 63,
   "outputs": [
    {
     "output_type": "stream",
     "name": "stdout",
     "text": [
      "/content/drive/Othercomputers/My Laptop/DrivingBehaviour\n"
     ]
    }
   ],
   "source": [
    "cd \"/content/drive/Othercomputers/My Laptop/DrivingBehaviour\""
   ],
   "metadata": {
    "colab": {
     "base_uri": "https://localhost:8080/"
    },
    "id": "2noP4qblqabT",
    "executionInfo": {
     "status": "ok",
     "timestamp": 1673801671455,
     "user_tz": -120,
     "elapsed": 17,
     "user": {
      "displayName": "Dinu Ion George",
      "userId": "14034259797438922081"
     }
    },
    "outputId": "145027a5-963b-413c-d054-096196311c2a"
   }
  },
  {
   "cell_type": "markdown",
   "source": [
    "2. Import dataset"
   ],
   "metadata": {
    "collapsed": false
   }
  },
  {
   "cell_type": "code",
   "execution_count": 1,
   "outputs": [],
   "source": [
    "import pandas as pd\n",
    "df_train = pd.read_csv(\"train_motion_data.csv\")\n",
    "df_test = pd.read_csv(\"Test.csv\")"
   ],
   "metadata": {
    "collapsed": false
   }
  },
  {
   "cell_type": "code",
   "execution_count": 2,
   "outputs": [
    {
     "data": {
      "text/plain": "       AccX      AccY      AccZ     GyroX     GyroY     GyroZ   Class  \\\n0  0.000000  0.000000  0.000000  0.059407 -0.174707  0.101938  NORMAL   \n1 -1.624864 -1.082492 -0.204183 -0.028558  0.051313  0.135536  NORMAL   \n2 -0.594660 -0.122410  0.220502 -0.019395 -0.029322  0.087888  NORMAL   \n3  0.738478 -0.228456  0.667732  0.069791 -0.029932  0.054902  NORMAL   \n4  0.101741  0.777568 -0.066730  0.030696 -0.003665  0.054902  NORMAL   \n\n   Timestamp  \n0    3581629  \n1    3581630  \n2    3581630  \n3    3581631  \n4    3581631  ",
      "text/html": "<div>\n<style scoped>\n    .dataframe tbody tr th:only-of-type {\n        vertical-align: middle;\n    }\n\n    .dataframe tbody tr th {\n        vertical-align: top;\n    }\n\n    .dataframe thead th {\n        text-align: right;\n    }\n</style>\n<table border=\"1\" class=\"dataframe\">\n  <thead>\n    <tr style=\"text-align: right;\">\n      <th></th>\n      <th>AccX</th>\n      <th>AccY</th>\n      <th>AccZ</th>\n      <th>GyroX</th>\n      <th>GyroY</th>\n      <th>GyroZ</th>\n      <th>Class</th>\n      <th>Timestamp</th>\n    </tr>\n  </thead>\n  <tbody>\n    <tr>\n      <th>0</th>\n      <td>0.000000</td>\n      <td>0.000000</td>\n      <td>0.000000</td>\n      <td>0.059407</td>\n      <td>-0.174707</td>\n      <td>0.101938</td>\n      <td>NORMAL</td>\n      <td>3581629</td>\n    </tr>\n    <tr>\n      <th>1</th>\n      <td>-1.624864</td>\n      <td>-1.082492</td>\n      <td>-0.204183</td>\n      <td>-0.028558</td>\n      <td>0.051313</td>\n      <td>0.135536</td>\n      <td>NORMAL</td>\n      <td>3581630</td>\n    </tr>\n    <tr>\n      <th>2</th>\n      <td>-0.594660</td>\n      <td>-0.122410</td>\n      <td>0.220502</td>\n      <td>-0.019395</td>\n      <td>-0.029322</td>\n      <td>0.087888</td>\n      <td>NORMAL</td>\n      <td>3581630</td>\n    </tr>\n    <tr>\n      <th>3</th>\n      <td>0.738478</td>\n      <td>-0.228456</td>\n      <td>0.667732</td>\n      <td>0.069791</td>\n      <td>-0.029932</td>\n      <td>0.054902</td>\n      <td>NORMAL</td>\n      <td>3581631</td>\n    </tr>\n    <tr>\n      <th>4</th>\n      <td>0.101741</td>\n      <td>0.777568</td>\n      <td>-0.066730</td>\n      <td>0.030696</td>\n      <td>-0.003665</td>\n      <td>0.054902</td>\n      <td>NORMAL</td>\n      <td>3581631</td>\n    </tr>\n  </tbody>\n</table>\n</div>"
     },
     "execution_count": 2,
     "metadata": {},
     "output_type": "execute_result"
    }
   ],
   "source": [
    "df_train.head()"
   ],
   "metadata": {
    "colab": {
     "base_uri": "https://localhost:8080/",
     "height": 206
    },
    "id": "-2KPU44nqabV",
    "executionInfo": {
     "status": "ok",
     "timestamp": 1673801671456,
     "user_tz": -120,
     "elapsed": 15,
     "user": {
      "displayName": "Dinu Ion George",
      "userId": "14034259797438922081"
     }
    },
    "outputId": "e184a5a4-f116-45f0-c164-93487ef4ef9e"
   }
  },
  {
   "cell_type": "code",
   "execution_count": 3,
   "outputs": [
    {
     "name": "stdout",
     "output_type": "stream",
     "text": [
      "<class 'pandas.core.frame.DataFrame'>\n",
      "RangeIndex: 3644 entries, 0 to 3643\n",
      "Data columns (total 8 columns):\n",
      " #   Column     Non-Null Count  Dtype  \n",
      "---  ------     --------------  -----  \n",
      " 0   AccX       3644 non-null   float64\n",
      " 1   AccY       3644 non-null   float64\n",
      " 2   AccZ       3644 non-null   float64\n",
      " 3   GyroX      3644 non-null   float64\n",
      " 4   GyroY      3644 non-null   float64\n",
      " 5   GyroZ      3644 non-null   float64\n",
      " 6   Class      3644 non-null   object \n",
      " 7   Timestamp  3644 non-null   int64  \n",
      "dtypes: float64(6), int64(1), object(1)\n",
      "memory usage: 227.9+ KB\n"
     ]
    }
   ],
   "source": [
    "df_train.info()"
   ],
   "metadata": {
    "colab": {
     "base_uri": "https://localhost:8080/"
    },
    "id": "ri70zreaqabX",
    "executionInfo": {
     "status": "ok",
     "timestamp": 1673801671457,
     "user_tz": -120,
     "elapsed": 15,
     "user": {
      "displayName": "Dinu Ion George",
      "userId": "14034259797438922081"
     }
    },
    "outputId": "f991ae65-0648-406d-df97-e2d990309615"
   }
  },
  {
   "cell_type": "code",
   "execution_count": 4,
   "outputs": [
    {
     "name": "stdout",
     "output_type": "stream",
     "text": [
      "AccX         0\n",
      "AccY         0\n",
      "AccZ         0\n",
      "GyroX        0\n",
      "GyroY        0\n",
      "GyroZ        0\n",
      "Class        0\n",
      "Timestamp    0\n",
      "dtype: int64\n",
      "0\n"
     ]
    }
   ],
   "source": [
    "# checking for the missing values\n",
    "print(df_train.isna().sum())\n",
    "print(df_train.duplicated().sum())"
   ],
   "metadata": {
    "colab": {
     "base_uri": "https://localhost:8080/"
    },
    "id": "_VeJpn-wqabX",
    "executionInfo": {
     "status": "ok",
     "timestamp": 1673801671855,
     "user_tz": -120,
     "elapsed": 411,
     "user": {
      "displayName": "Dinu Ion George",
      "userId": "14034259797438922081"
     }
    },
    "outputId": "2cb2cd93-0218-4821-f091-65fefb45fcdc"
   }
  },
  {
   "cell_type": "markdown",
   "source": [
    "3. Preprocess the dataset"
   ],
   "metadata": {
    "collapsed": false
   }
  },
  {
   "cell_type": "code",
   "execution_count": 5,
   "outputs": [],
   "source": [
    "import torch\n",
    "from sklearn.preprocessing import LabelEncoder\n",
    "from torch.utils.data import TensorDataset\n",
    "import numpy as np\n",
    "\n",
    "# Extract the acceleration and gyroscope data and labels from the dataframe\n",
    "\n",
    "train_data = df_train[['AccX', 'AccY', 'AccZ', 'GyroX', 'GyroY', 'GyroZ']].values\n",
    "\n",
    "acc_data = df_train[['AccX', 'AccY', 'AccZ']].values\n",
    "\n",
    "gyr_data = df_train[['GyroX', 'GyroY', 'GyroZ']].values\n",
    "\n",
    "acc_train_data = []\n",
    "gyr_train_data = []\n",
    "for i, data in enumerate(train_data):\n",
    "    acceleration = np.sqrt(np.square(data[0]) + np.square(data[1]) + np.square(data[2]))\n",
    "    angular_velocity = np.sqrt(np.square(data[3]) + np.square(data[4]) + np.square(data[5]))\n",
    "    acc_train_data.append(np.concatenate((acc_data[i], [acceleration])))\n",
    "    gyr_train_data.append(np.concatenate((gyr_data[i], [angular_velocity])))\n",
    "\n",
    "acc_data = np.asarray(acc_train_data)\n",
    "gyr_data = np.asarray(gyr_train_data)\n",
    "acc_data = torch.from_numpy(acc_data).to(torch.float)\n",
    "gyr_data = torch.from_numpy(gyr_data).to(torch.float)"
   ],
   "metadata": {
    "collapsed": false
   }
  },
  {
   "cell_type": "code",
   "execution_count": 6,
   "outputs": [
    {
     "data": {
      "text/plain": "tensor([[ 0.0000,  0.0000,  0.0000,  0.0000],\n        [-1.6249, -1.0825, -0.2042,  1.9631],\n        [-0.5947, -0.1224,  0.2205,  0.6459],\n        ...,\n        [-0.2228,  0.7473, -0.8874,  1.1814],\n        [-0.3494,  0.0673,  0.3944,  0.5312],\n        [-0.4024,  0.4062, -0.4230,  0.7113]])"
     },
     "execution_count": 6,
     "metadata": {},
     "output_type": "execute_result"
    }
   ],
   "source": [
    "acc_data"
   ],
   "metadata": {
    "colab": {
     "base_uri": "https://localhost:8080/"
    },
    "id": "BSzcb93gWnr1",
    "executionInfo": {
     "status": "ok",
     "timestamp": 1673801673559,
     "user_tz": -120,
     "elapsed": 3,
     "user": {
      "displayName": "Dinu Ion George",
      "userId": "14034259797438922081"
     }
    },
    "outputId": "e4374873-9cc3-4a7f-cbb0-779470ae80e8"
   }
  },
  {
   "cell_type": "code",
   "execution_count": 7,
   "outputs": [],
   "source": [
    "# Create the input data\n",
    "train_data = torch.stack([acc_data, gyr_data], dim=1)\n",
    "train_data = train_data.unsqueeze(1)\n",
    "train_data.to(torch.double)\n",
    "\n",
    "labelEncoder = LabelEncoder()\n",
    "df_train[\"Class\"] = labelEncoder.fit_transform(df_train[\"Class\"])\n",
    "train_labels = df_train['Class'].values"
   ],
   "metadata": {
    "id": "dgOWDWbXWnr1",
    "executionInfo": {
     "status": "ok",
     "timestamp": 1673801673978,
     "user_tz": -120,
     "elapsed": 1,
     "user": {
      "displayName": "Dinu Ion George",
      "userId": "14034259797438922081"
     }
    }
   }
  },
  {
   "cell_type": "code",
   "execution_count": 8,
   "outputs": [
    {
     "data": {
      "text/plain": "tensor([[[[ 0.0000e+00,  0.0000e+00,  0.0000e+00,  0.0000e+00],\n          [ 5.9407e-02, -1.7471e-01,  1.0194e-01,  2.1082e-01]]],\n\n\n        [[[-1.6249e+00, -1.0825e+00, -2.0418e-01,  1.9631e+00],\n          [-2.8558e-02,  5.1313e-02,  1.3554e-01,  1.4771e-01]]],\n\n\n        [[[-5.9466e-01, -1.2241e-01,  2.2050e-01,  6.4593e-01],\n          [-1.9395e-02, -2.9322e-02,  8.7888e-02,  9.4659e-02]]],\n\n\n        ...,\n\n\n        [[[-2.2284e-01,  7.4730e-01, -8.8743e-01,  1.1814e+00],\n          [ 3.6117e-01, -4.0684e-01,  5.4291e-02,  5.4673e-01]]],\n\n\n        [[[-3.4942e-01,  6.7261e-02,  3.9437e-01,  5.3117e-01],\n          [-1.3241e-01,  2.0159e-02, -4.9633e-03,  1.3402e-01]]],\n\n\n        [[[-4.0243e-01,  4.0622e-01, -4.2301e-01,  7.1126e-01],\n          [-5.3603e-02, -6.7195e-03,  1.1454e-03,  5.4035e-02]]]])"
     },
     "execution_count": 8,
     "metadata": {},
     "output_type": "execute_result"
    }
   ],
   "source": [
    "train_data"
   ],
   "metadata": {
    "colab": {
     "base_uri": "https://localhost:8080/"
    },
    "id": "YCDRtLauWnr2",
    "executionInfo": {
     "status": "ok",
     "timestamp": 1673801675690,
     "user_tz": -120,
     "elapsed": 3,
     "user": {
      "displayName": "Dinu Ion George",
      "userId": "14034259797438922081"
     }
    },
    "outputId": "2319bbd3-f585-4366-9836-132f561afcec"
   }
  },
  {
   "cell_type": "markdown",
   "source": [
    "Convert the data and labels to tensors"
   ],
   "metadata": {
    "collapsed": false
   }
  },
  {
   "cell_type": "code",
   "execution_count": 9,
   "outputs": [],
   "source": [
    "# Convert the data and labels to tensors\n",
    "train_labels = torch.from_numpy(train_labels).to(torch.float)"
   ],
   "metadata": {
    "id": "AkiwyFomqaba",
    "executionInfo": {
     "status": "ok",
     "timestamp": 1673801677924,
     "user_tz": -120,
     "elapsed": 4,
     "user": {
      "displayName": "Dinu Ion George",
      "userId": "14034259797438922081"
     }
    }
   }
  },
  {
   "cell_type": "code",
   "execution_count": 10,
   "outputs": [
    {
     "data": {
      "text/plain": "tensor([1., 1., 1.,  ..., 2., 2., 2.])"
     },
     "execution_count": 10,
     "metadata": {},
     "output_type": "execute_result"
    }
   ],
   "source": [
    "train_labels"
   ],
   "metadata": {
    "colab": {
     "base_uri": "https://localhost:8080/"
    },
    "id": "oebl2RbAqabb",
    "executionInfo": {
     "status": "ok",
     "timestamp": 1673801678783,
     "user_tz": -120,
     "elapsed": 2,
     "user": {
      "displayName": "Dinu Ion George",
      "userId": "14034259797438922081"
     }
    },
    "outputId": "dff8e027-00c5-40fc-a6d2-d823164f9f45"
   }
  },
  {
   "cell_type": "markdown",
   "source": [
    "4. Define the dataset and the dataloader"
   ],
   "metadata": {
    "collapsed": false
   }
  },
  {
   "cell_type": "code",
   "execution_count": 34,
   "outputs": [],
   "source": [
    "from torch.utils.data import DataLoader\n",
    "\n",
    "# Define the number of epoches and batch size\n",
    "BATCH_SIZE = 32\n",
    "NO_EPOCH = 5\n",
    "\n",
    "\n",
    "# Define a PyTorch dataset and dataloader for the training set\n",
    "train_dataset = TensorDataset(train_data, train_labels)\n",
    "\n",
    "train_dataloader  = DataLoader (\n",
    "            train_dataset,\n",
    "            shuffle=True,\n",
    "            batch_size  = BATCH_SIZE\n",
    ")\n",
    "\n",
    "# calculate steps per epoch for training and validation set\n",
    "trainSteps = len(train_dataloader.dataset) // BATCH_SIZE\n",
    "valSteps = len(train_dataloader.dataset) // BATCH_SIZE\n"
   ],
   "metadata": {
    "id": "Nuy7hCylqabd",
    "executionInfo": {
     "status": "ok",
     "timestamp": 1673801680101,
     "user_tz": -120,
     "elapsed": 3,
     "user": {
      "displayName": "Dinu Ion George",
      "userId": "14034259797438922081"
     }
    }
   }
  },
  {
   "cell_type": "markdown",
   "source": [
    "5. Define the CNN arhitecture + training loop"
   ],
   "metadata": {
    "collapsed": false
   }
  },
  {
   "cell_type": "code",
   "execution_count": 36,
   "outputs": [
    {
     "name": "stdout",
     "output_type": "stream",
     "text": [
      "Epoch 1/10: loss = 1.107056736946106\n",
      "Train accuracy: 0.3699\n",
      "Epoch 2/10: loss = 1.0900765657424927\n",
      "Train accuracy: 0.4163\n",
      "Epoch 3/10: loss = 1.07150399684906\n",
      "Train accuracy: 0.4232\n",
      "Epoch 4/10: loss = 1.0661251544952393\n",
      "Train accuracy: 0.4311\n",
      "Epoch 5/10: loss = 1.0637160539627075\n",
      "Train accuracy: 0.4306\n"
     ]
    }
   ],
   "source": [
    "import torch\n",
    "import torch.nn as nn\n",
    "import torch.nn.functional as F\n",
    "from torch import flatten\n",
    "\n",
    "# Define the CNN architecture\n",
    "class CNN(nn.Module):\n",
    "    def __init__(self, input_size, num_classes):\n",
    "        super(CNN, self).__init__()\n",
    "\n",
    "        self.conv1 = nn.Conv2d(in_channels=input_size, out_channels=32, kernel_size=3, stride=1, padding=1)\n",
    "        self.conv2 = nn.Conv2d(32, 64, kernel_size=3, stride=1, padding=1)\n",
    "        self.conv3 = nn.Conv2d(64, 128, kernel_size=3, stride=1, padding=1)\n",
    "        self.conv4 = nn.Conv2d(128, 256, kernel_size=3, stride=1, padding=1)\n",
    "        self.conv5 = nn.Conv2d(256, 512, kernel_size=3, stride=1, padding=1)\n",
    "\n",
    "        self.flatten = nn.Flatten()\n",
    "        self.fc1 = nn.Linear(4096, 2048)\n",
    "        self.fc2 = nn.Linear(2048, 1024)\n",
    "        self.fc3 = nn.Linear(1024, 512)\n",
    "        self.fc4 = nn.Linear(512, num_classes)\n",
    "\n",
    "        # Define the dropout layer\n",
    "        self.dropout = nn.Dropout(p=0.15)\n",
    "\n",
    "    def forward(self, x):\n",
    "\n",
    "        x = nn.functional.relu(self.conv1(x))\n",
    "        x = nn.functional.relu(self.conv2(x))\n",
    "        x = nn.functional.relu(self.conv3(x))\n",
    "        x = nn.functional.relu(self.conv4(x))\n",
    "        x = nn.functional.relu(self.conv5(x))\n",
    "\n",
    "\n",
    "        # Flatten the data for the fully connected layers\n",
    "        x = flatten(x, 1)\n",
    "\n",
    "        x = nn.functional.relu(self.fc1(x))\n",
    "        x = self.dropout(x)\n",
    "        x = nn.functional.relu(self.fc2(x))\n",
    "        x = self.dropout(x)\n",
    "        x = nn.functional.relu(self.fc3(x))\n",
    "        x = self.dropout(x)\n",
    "        x = nn.functional.relu(self.fc4(x))\n",
    "\n",
    "        return x\n",
    "\n",
    "# Instantiate the CNN\n",
    "model = CNN(input_size=1, num_classes=3)\n",
    "\n",
    "\n",
    "# Define the loss function and optimizer\n",
    "criterion = nn.CrossEntropyLoss()\n",
    "\n",
    "optimizer = torch.optim.AdamW(model.parameters(), lr=2e-5)\n",
    "\n",
    "last_train_acc = 0\n",
    "\n",
    "# Train the model\n",
    "for epoch in range(NO_EPOCH):\n",
    "\n",
    "    totalTrainLoss = 0\n",
    "    trainCorrect = 0\n",
    "\n",
    "    # Set the model to training mode\n",
    "    model.train()\n",
    "\n",
    "    for i, data in enumerate(train_dataloader):\n",
    "        inputs, labels = data\n",
    "        optimizer.zero_grad()\n",
    "        outputs = model(inputs)\n",
    "        labels = labels.to(torch.long)\n",
    "        loss = criterion(outputs, labels)\n",
    "        loss.backward()\n",
    "        optimizer.step()\n",
    "        totalTrainLoss += loss\n",
    "\n",
    "        predicted_class = outputs.argmax(1)\n",
    "        trainCorrect += (predicted_class == labels).sum().item()\n",
    "\n",
    "    print(f'Epoch {epoch+1}/10: loss = {totalTrainLoss / trainSteps}')\n",
    "\n",
    "    # Print the accuracy\n",
    "    acc = trainCorrect / len(train_dataset)\n",
    "    print(f'Train accuracy: {acc:.4f}')\n",
    "\n",
    "PATH = './DrivingBehaviourModel.pth'\n",
    "torch.save(model.state_dict(), PATH)"
   ],
   "metadata": {
    "colab": {
     "base_uri": "https://localhost:8080/"
    },
    "id": "cpXme6osWnr3",
    "executionInfo": {
     "status": "ok",
     "timestamp": 1673804510448,
     "user_tz": -120,
     "elapsed": 2827288,
     "user": {
      "displayName": "Dinu Ion George",
      "userId": "14034259797438922081"
     }
    },
    "outputId": "d1ef9b78-1aaa-4411-c6f5-a2d3c1bbc937"
   }
  },
  {
   "cell_type": "markdown",
   "source": [
    "6. Start processing the test dataset"
   ],
   "metadata": {
    "collapsed": false
   }
  },
  {
   "cell_type": "markdown",
   "source": [
    "Preprocess the test dataset"
   ],
   "metadata": {
    "collapsed": false
   }
  },
  {
   "cell_type": "code",
   "execution_count": 15,
   "outputs": [
    {
     "data": {
      "text/plain": "   ID      AccX      AccY      AccZ     GyroX     GyroY     GyroZ\n0   1 -2.426553  5.780482 -1.139655  0.009392 -0.012370 -0.008247\n1   2  0.083292  0.060946  0.251380 -0.011988 -0.008094 -0.000305\n2   3 -0.190249  0.052715 -0.022909  0.001451  0.000458  0.056505\n3   4 -0.038543 -0.162965  0.083716  0.029551  0.025504  0.153633\n4   5 -0.137203  0.328793  0.092976  0.064981 -0.025809  0.244652",
      "text/html": "<div>\n<style scoped>\n    .dataframe tbody tr th:only-of-type {\n        vertical-align: middle;\n    }\n\n    .dataframe tbody tr th {\n        vertical-align: top;\n    }\n\n    .dataframe thead th {\n        text-align: right;\n    }\n</style>\n<table border=\"1\" class=\"dataframe\">\n  <thead>\n    <tr style=\"text-align: right;\">\n      <th></th>\n      <th>ID</th>\n      <th>AccX</th>\n      <th>AccY</th>\n      <th>AccZ</th>\n      <th>GyroX</th>\n      <th>GyroY</th>\n      <th>GyroZ</th>\n    </tr>\n  </thead>\n  <tbody>\n    <tr>\n      <th>0</th>\n      <td>1</td>\n      <td>-2.426553</td>\n      <td>5.780482</td>\n      <td>-1.139655</td>\n      <td>0.009392</td>\n      <td>-0.012370</td>\n      <td>-0.008247</td>\n    </tr>\n    <tr>\n      <th>1</th>\n      <td>2</td>\n      <td>0.083292</td>\n      <td>0.060946</td>\n      <td>0.251380</td>\n      <td>-0.011988</td>\n      <td>-0.008094</td>\n      <td>-0.000305</td>\n    </tr>\n    <tr>\n      <th>2</th>\n      <td>3</td>\n      <td>-0.190249</td>\n      <td>0.052715</td>\n      <td>-0.022909</td>\n      <td>0.001451</td>\n      <td>0.000458</td>\n      <td>0.056505</td>\n    </tr>\n    <tr>\n      <th>3</th>\n      <td>4</td>\n      <td>-0.038543</td>\n      <td>-0.162965</td>\n      <td>0.083716</td>\n      <td>0.029551</td>\n      <td>0.025504</td>\n      <td>0.153633</td>\n    </tr>\n    <tr>\n      <th>4</th>\n      <td>5</td>\n      <td>-0.137203</td>\n      <td>0.328793</td>\n      <td>0.092976</td>\n      <td>0.064981</td>\n      <td>-0.025809</td>\n      <td>0.244652</td>\n    </tr>\n  </tbody>\n</table>\n</div>"
     },
     "execution_count": 15,
     "metadata": {},
     "output_type": "execute_result"
    }
   ],
   "source": [
    "df_test.head()"
   ],
   "metadata": {
    "id": "-RTmmBEMWnr5",
    "outputId": "7220473e-3ce7-41ce-ddf0-52f7b30045c0"
   }
  },
  {
   "cell_type": "code",
   "execution_count": 16,
   "outputs": [
    {
     "name": "stdout",
     "output_type": "stream",
     "text": [
      "<class 'pandas.core.frame.DataFrame'>\n",
      "RangeIndex: 3475 entries, 0 to 3474\n",
      "Data columns (total 7 columns):\n",
      " #   Column  Non-Null Count  Dtype  \n",
      "---  ------  --------------  -----  \n",
      " 0   ID      3475 non-null   int64  \n",
      " 1   AccX    3475 non-null   float64\n",
      " 2   AccY    3475 non-null   float64\n",
      " 3   AccZ    3475 non-null   float64\n",
      " 4   GyroX   3475 non-null   float64\n",
      " 5   GyroY   3475 non-null   float64\n",
      " 6   GyroZ   3475 non-null   float64\n",
      "dtypes: float64(6), int64(1)\n",
      "memory usage: 190.2 KB\n"
     ]
    }
   ],
   "source": [
    "df_test.info()"
   ],
   "metadata": {
    "id": "V-z3a-j2Wnr5",
    "outputId": "065b8e05-25e6-4613-ebe5-9c0c952a18c5"
   }
  },
  {
   "cell_type": "code",
   "execution_count": 18,
   "outputs": [
    {
     "name": "stdout",
     "output_type": "stream",
     "text": [
      "ID       0\n",
      "AccX     0\n",
      "AccY     0\n",
      "AccZ     0\n",
      "GyroX    0\n",
      "GyroY    0\n",
      "GyroZ    0\n",
      "dtype: int64\n",
      "0\n"
     ]
    }
   ],
   "source": [
    "# checking for the missing values\n",
    "print(df_test.isna().sum())\n",
    "print(df_test.duplicated().sum())"
   ],
   "metadata": {
    "id": "AZXritygWnr5",
    "outputId": "1db450fd-bb8d-48b5-c529-31f6379625ec"
   }
  },
  {
   "cell_type": "code",
   "execution_count": 24,
   "outputs": [],
   "source": [
    "test_df_data = df_test[['AccX', 'AccY', 'AccZ', 'GyroX', 'GyroY', 'GyroZ']].values\n",
    "\n",
    "test_acc_data = df_train[['AccX', 'AccY', 'AccZ']].values\n",
    "\n",
    "test_gyr_data = df_train[['GyroX', 'GyroY', 'GyroZ']].values\n",
    "\n",
    "acc_test_data = []\n",
    "gyr_test_data = []\n",
    "for i, data in enumerate(test_df_data):\n",
    "    acceleration = np.sqrt(np.square(data[0]) + np.square(data[1]) + np.square(data[2]))\n",
    "    angular_velocity = np.sqrt(np.square(data[3]) + np.square(data[4]) + np.square(data[5]))\n",
    "    acc_test_data.append(np.concatenate((test_acc_data[i], [acceleration])))\n",
    "    gyr_test_data.append(np.concatenate((test_gyr_data[i], [angular_velocity])))\n",
    "\n",
    "test_acc_data = np.asarray(acc_test_data)\n",
    "test_gyr_data = np.asarray(gyr_test_data)\n",
    "test_acc_data = torch.from_numpy(test_acc_data).to(torch.float)\n",
    "test_gyr_data = torch.from_numpy(test_gyr_data).to(torch.float)\n",
    "\n",
    "# Create the input data\n",
    "test_data = torch.stack([test_acc_data, test_gyr_data], dim=1)\n",
    "test_data = test_data.unsqueeze(1)\n",
    "test_data.to(torch.float)\n",
    "\n",
    "test_labels = torch.zeros(len(test_data)).to(torch.float)\n",
    "\n",
    "# Define a PyTorch dataset and dataloader for the training set\n",
    "test_dataset = TensorDataset(test_data, test_labels)\n",
    "\n",
    "test_dataloader  = DataLoader (\n",
    "            test_dataset,                                  # The training samples.\n",
    "            batch_size  = BATCH_SIZE\n",
    ")\n"
   ],
   "metadata": {
    "id": "KfnJPVs3Wnr5"
   }
  },
  {
   "cell_type": "markdown",
   "source": [
    "7. Load the model and predict data"
   ],
   "metadata": {
    "collapsed": false
   }
  },
  {
   "cell_type": "code",
   "execution_count": 37,
   "outputs": [],
   "source": [
    "\n",
    "myModel = CNN(input_size=1, num_classes=3)\n",
    "PATH = './DrivingBehaviourModel.pth'\n",
    "myModel.load_state_dict(torch.load(PATH))\n",
    "\n",
    "# Set the model to evaluation mode\n",
    "myModel.eval()\n",
    "\n",
    "labels = np.array([])\n",
    "\n",
    "with torch.no_grad():\n",
    "    for data in test_dataloader:\n",
    "        inputs, _ = data\n",
    "        # Forward pass\n",
    "        outputs = myModel(inputs)\n",
    "        output_probs = F.softmax(outputs, dim=1)\n",
    "        _, predicted = torch.max(output_probs, 1)\n",
    "        labels = np.append(labels, predicted.to(torch.long).numpy(), axis=0)\n",
    "\n",
    "\n",
    "result = []\n",
    "for label in labels:\n",
    "    if label == 2:\n",
    "        result.append(\"SLOW\")\n",
    "    elif label == 1:\n",
    "        result.append(\"NORMAL\")\n",
    "    elif label == 0:\n",
    "        result.append(\"AGGRESSIVE\")\n",
    "\n",
    "\n",
    "result_df = pd.DataFrame(data=result, columns=['Class'], index=range(1, 3476))\n",
    "result_df.to_csv('submision.csv', index=True)\n"
   ],
   "metadata": {
    "id": "Lf_KlTwMWnr6"
   }
  }
 ],
 "metadata": {
  "kernelspec": {
   "display_name": "Python 3",
   "language": "python",
   "name": "python3"
  },
  "language_info": {
   "codemirror_mode": {
    "name": "ipython",
    "version": 2
   },
   "file_extension": ".py",
   "mimetype": "text/x-python",
   "name": "python",
   "nbconvert_exporter": "python",
   "pygments_lexer": "ipython2",
   "version": "2.7.6"
  },
  "colab": {
   "provenance": []
  },
  "accelerator": "GPU",
  "gpuClass": "standard"
 },
 "nbformat": 4,
 "nbformat_minor": 0
}
